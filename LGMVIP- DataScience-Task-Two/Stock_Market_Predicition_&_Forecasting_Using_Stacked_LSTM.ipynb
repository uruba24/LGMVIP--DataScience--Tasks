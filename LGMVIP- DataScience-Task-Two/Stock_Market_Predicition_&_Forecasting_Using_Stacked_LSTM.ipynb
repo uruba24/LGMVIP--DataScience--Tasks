{
  "nbformat": 4,
  "nbformat_minor": 0,
  "metadata": {
    "colab": {
      "provenance": []
    },
    "kernelspec": {
      "name": "python3",
      "display_name": "Python 3"
    },
    "language_info": {
      "name": "python"
    }
  },
  "cells": [
    {
      "cell_type": "code",
      "execution_count": 1,
      "metadata": {
        "id": "8rd7Vic7rVf4"
      },
      "outputs": [],
      "source": [
        "import pandas as pd\n",
        "import matplotlib.pyplot as plt\n",
        "import numpy as np\n",
        "import numpy\n",
        "import tensorflow as tf\n",
        "from tensorflow.keras.models import Sequential\n",
        "from tensorflow.keras.layers import LSTM, Dense, Dropout"
      ]
    },
    {
      "cell_type": "code",
      "source": [
        "df = pd.read_csv('/content/NSE-TATAGLOBAL.csv')\n",
        "df.head()"
      ],
      "metadata": {
        "colab": {
          "base_uri": "https://localhost:8080/",
          "height": 206
        },
        "id": "9Yes_kHrr1M4",
        "outputId": "d780ccef-8d71-4c7d-b4de-dd9a748b9614"
      },
      "execution_count": 2,
      "outputs": [
        {
          "output_type": "execute_result",
          "data": {
            "text/plain": [
              "         Date    Open    High     Low    Last   Close  Total Trade Quantity  \\\n",
              "0  2018-09-28  234.05  235.95  230.20  233.50  233.75               3069914   \n",
              "1  2018-09-27  234.55  236.80  231.10  233.80  233.25               5082859   \n",
              "2  2018-09-26  240.00  240.00  232.50  235.00  234.25               2240909   \n",
              "3  2018-09-25  233.30  236.75  232.00  236.25  236.10               2349368   \n",
              "4  2018-09-24  233.55  239.20  230.75  234.00  233.30               3423509   \n",
              "\n",
              "   Turnover (Lacs)  \n",
              "0          7162.35  \n",
              "1         11859.95  \n",
              "2          5248.60  \n",
              "3          5503.90  \n",
              "4          7999.55  "
            ],
            "text/html": [
              "\n",
              "  <div id=\"df-79584a9f-434b-4bf9-b319-0ac32725e62e\" class=\"colab-df-container\">\n",
              "    <div>\n",
              "<style scoped>\n",
              "    .dataframe tbody tr th:only-of-type {\n",
              "        vertical-align: middle;\n",
              "    }\n",
              "\n",
              "    .dataframe tbody tr th {\n",
              "        vertical-align: top;\n",
              "    }\n",
              "\n",
              "    .dataframe thead th {\n",
              "        text-align: right;\n",
              "    }\n",
              "</style>\n",
              "<table border=\"1\" class=\"dataframe\">\n",
              "  <thead>\n",
              "    <tr style=\"text-align: right;\">\n",
              "      <th></th>\n",
              "      <th>Date</th>\n",
              "      <th>Open</th>\n",
              "      <th>High</th>\n",
              "      <th>Low</th>\n",
              "      <th>Last</th>\n",
              "      <th>Close</th>\n",
              "      <th>Total Trade Quantity</th>\n",
              "      <th>Turnover (Lacs)</th>\n",
              "    </tr>\n",
              "  </thead>\n",
              "  <tbody>\n",
              "    <tr>\n",
              "      <th>0</th>\n",
              "      <td>2018-09-28</td>\n",
              "      <td>234.05</td>\n",
              "      <td>235.95</td>\n",
              "      <td>230.20</td>\n",
              "      <td>233.50</td>\n",
              "      <td>233.75</td>\n",
              "      <td>3069914</td>\n",
              "      <td>7162.35</td>\n",
              "    </tr>\n",
              "    <tr>\n",
              "      <th>1</th>\n",
              "      <td>2018-09-27</td>\n",
              "      <td>234.55</td>\n",
              "      <td>236.80</td>\n",
              "      <td>231.10</td>\n",
              "      <td>233.80</td>\n",
              "      <td>233.25</td>\n",
              "      <td>5082859</td>\n",
              "      <td>11859.95</td>\n",
              "    </tr>\n",
              "    <tr>\n",
              "      <th>2</th>\n",
              "      <td>2018-09-26</td>\n",
              "      <td>240.00</td>\n",
              "      <td>240.00</td>\n",
              "      <td>232.50</td>\n",
              "      <td>235.00</td>\n",
              "      <td>234.25</td>\n",
              "      <td>2240909</td>\n",
              "      <td>5248.60</td>\n",
              "    </tr>\n",
              "    <tr>\n",
              "      <th>3</th>\n",
              "      <td>2018-09-25</td>\n",
              "      <td>233.30</td>\n",
              "      <td>236.75</td>\n",
              "      <td>232.00</td>\n",
              "      <td>236.25</td>\n",
              "      <td>236.10</td>\n",
              "      <td>2349368</td>\n",
              "      <td>5503.90</td>\n",
              "    </tr>\n",
              "    <tr>\n",
              "      <th>4</th>\n",
              "      <td>2018-09-24</td>\n",
              "      <td>233.55</td>\n",
              "      <td>239.20</td>\n",
              "      <td>230.75</td>\n",
              "      <td>234.00</td>\n",
              "      <td>233.30</td>\n",
              "      <td>3423509</td>\n",
              "      <td>7999.55</td>\n",
              "    </tr>\n",
              "  </tbody>\n",
              "</table>\n",
              "</div>\n",
              "    <div class=\"colab-df-buttons\">\n",
              "\n",
              "  <div class=\"colab-df-container\">\n",
              "    <button class=\"colab-df-convert\" onclick=\"convertToInteractive('df-79584a9f-434b-4bf9-b319-0ac32725e62e')\"\n",
              "            title=\"Convert this dataframe to an interactive table.\"\n",
              "            style=\"display:none;\">\n",
              "\n",
              "  <svg xmlns=\"http://www.w3.org/2000/svg\" height=\"24px\" viewBox=\"0 -960 960 960\">\n",
              "    <path d=\"M120-120v-720h720v720H120Zm60-500h600v-160H180v160Zm220 220h160v-160H400v160Zm0 220h160v-160H400v160ZM180-400h160v-160H180v160Zm440 0h160v-160H620v160ZM180-180h160v-160H180v160Zm440 0h160v-160H620v160Z\"/>\n",
              "  </svg>\n",
              "    </button>\n",
              "\n",
              "  <style>\n",
              "    .colab-df-container {\n",
              "      display:flex;\n",
              "      gap: 12px;\n",
              "    }\n",
              "\n",
              "    .colab-df-convert {\n",
              "      background-color: #E8F0FE;\n",
              "      border: none;\n",
              "      border-radius: 50%;\n",
              "      cursor: pointer;\n",
              "      display: none;\n",
              "      fill: #1967D2;\n",
              "      height: 32px;\n",
              "      padding: 0 0 0 0;\n",
              "      width: 32px;\n",
              "    }\n",
              "\n",
              "    .colab-df-convert:hover {\n",
              "      background-color: #E2EBFA;\n",
              "      box-shadow: 0px 1px 2px rgba(60, 64, 67, 0.3), 0px 1px 3px 1px rgba(60, 64, 67, 0.15);\n",
              "      fill: #174EA6;\n",
              "    }\n",
              "\n",
              "    .colab-df-buttons div {\n",
              "      margin-bottom: 4px;\n",
              "    }\n",
              "\n",
              "    [theme=dark] .colab-df-convert {\n",
              "      background-color: #3B4455;\n",
              "      fill: #D2E3FC;\n",
              "    }\n",
              "\n",
              "    [theme=dark] .colab-df-convert:hover {\n",
              "      background-color: #434B5C;\n",
              "      box-shadow: 0px 1px 3px 1px rgba(0, 0, 0, 0.15);\n",
              "      filter: drop-shadow(0px 1px 2px rgba(0, 0, 0, 0.3));\n",
              "      fill: #FFFFFF;\n",
              "    }\n",
              "  </style>\n",
              "\n",
              "    <script>\n",
              "      const buttonEl =\n",
              "        document.querySelector('#df-79584a9f-434b-4bf9-b319-0ac32725e62e button.colab-df-convert');\n",
              "      buttonEl.style.display =\n",
              "        google.colab.kernel.accessAllowed ? 'block' : 'none';\n",
              "\n",
              "      async function convertToInteractive(key) {\n",
              "        const element = document.querySelector('#df-79584a9f-434b-4bf9-b319-0ac32725e62e');\n",
              "        const dataTable =\n",
              "          await google.colab.kernel.invokeFunction('convertToInteractive',\n",
              "                                                    [key], {});\n",
              "        if (!dataTable) return;\n",
              "\n",
              "        const docLinkHtml = 'Like what you see? Visit the ' +\n",
              "          '<a target=\"_blank\" href=https://colab.research.google.com/notebooks/data_table.ipynb>data table notebook</a>'\n",
              "          + ' to learn more about interactive tables.';\n",
              "        element.innerHTML = '';\n",
              "        dataTable['output_type'] = 'display_data';\n",
              "        await google.colab.output.renderOutput(dataTable, element);\n",
              "        const docLink = document.createElement('div');\n",
              "        docLink.innerHTML = docLinkHtml;\n",
              "        element.appendChild(docLink);\n",
              "      }\n",
              "    </script>\n",
              "  </div>\n",
              "\n",
              "\n",
              "<div id=\"df-4958d5c8-c38f-4748-80f0-71fc0321a6eb\">\n",
              "  <button class=\"colab-df-quickchart\" onclick=\"quickchart('df-4958d5c8-c38f-4748-80f0-71fc0321a6eb')\"\n",
              "            title=\"Suggest charts.\"\n",
              "            style=\"display:none;\">\n",
              "\n",
              "<svg xmlns=\"http://www.w3.org/2000/svg\" height=\"24px\"viewBox=\"0 0 24 24\"\n",
              "     width=\"24px\">\n",
              "    <g>\n",
              "        <path d=\"M19 3H5c-1.1 0-2 .9-2 2v14c0 1.1.9 2 2 2h14c1.1 0 2-.9 2-2V5c0-1.1-.9-2-2-2zM9 17H7v-7h2v7zm4 0h-2V7h2v10zm4 0h-2v-4h2v4z\"/>\n",
              "    </g>\n",
              "</svg>\n",
              "  </button>\n",
              "\n",
              "<style>\n",
              "  .colab-df-quickchart {\n",
              "      --bg-color: #E8F0FE;\n",
              "      --fill-color: #1967D2;\n",
              "      --hover-bg-color: #E2EBFA;\n",
              "      --hover-fill-color: #174EA6;\n",
              "      --disabled-fill-color: #AAA;\n",
              "      --disabled-bg-color: #DDD;\n",
              "  }\n",
              "\n",
              "  [theme=dark] .colab-df-quickchart {\n",
              "      --bg-color: #3B4455;\n",
              "      --fill-color: #D2E3FC;\n",
              "      --hover-bg-color: #434B5C;\n",
              "      --hover-fill-color: #FFFFFF;\n",
              "      --disabled-bg-color: #3B4455;\n",
              "      --disabled-fill-color: #666;\n",
              "  }\n",
              "\n",
              "  .colab-df-quickchart {\n",
              "    background-color: var(--bg-color);\n",
              "    border: none;\n",
              "    border-radius: 50%;\n",
              "    cursor: pointer;\n",
              "    display: none;\n",
              "    fill: var(--fill-color);\n",
              "    height: 32px;\n",
              "    padding: 0;\n",
              "    width: 32px;\n",
              "  }\n",
              "\n",
              "  .colab-df-quickchart:hover {\n",
              "    background-color: var(--hover-bg-color);\n",
              "    box-shadow: 0 1px 2px rgba(60, 64, 67, 0.3), 0 1px 3px 1px rgba(60, 64, 67, 0.15);\n",
              "    fill: var(--button-hover-fill-color);\n",
              "  }\n",
              "\n",
              "  .colab-df-quickchart-complete:disabled,\n",
              "  .colab-df-quickchart-complete:disabled:hover {\n",
              "    background-color: var(--disabled-bg-color);\n",
              "    fill: var(--disabled-fill-color);\n",
              "    box-shadow: none;\n",
              "  }\n",
              "\n",
              "  .colab-df-spinner {\n",
              "    border: 2px solid var(--fill-color);\n",
              "    border-color: transparent;\n",
              "    border-bottom-color: var(--fill-color);\n",
              "    animation:\n",
              "      spin 1s steps(1) infinite;\n",
              "  }\n",
              "\n",
              "  @keyframes spin {\n",
              "    0% {\n",
              "      border-color: transparent;\n",
              "      border-bottom-color: var(--fill-color);\n",
              "      border-left-color: var(--fill-color);\n",
              "    }\n",
              "    20% {\n",
              "      border-color: transparent;\n",
              "      border-left-color: var(--fill-color);\n",
              "      border-top-color: var(--fill-color);\n",
              "    }\n",
              "    30% {\n",
              "      border-color: transparent;\n",
              "      border-left-color: var(--fill-color);\n",
              "      border-top-color: var(--fill-color);\n",
              "      border-right-color: var(--fill-color);\n",
              "    }\n",
              "    40% {\n",
              "      border-color: transparent;\n",
              "      border-right-color: var(--fill-color);\n",
              "      border-top-color: var(--fill-color);\n",
              "    }\n",
              "    60% {\n",
              "      border-color: transparent;\n",
              "      border-right-color: var(--fill-color);\n",
              "    }\n",
              "    80% {\n",
              "      border-color: transparent;\n",
              "      border-right-color: var(--fill-color);\n",
              "      border-bottom-color: var(--fill-color);\n",
              "    }\n",
              "    90% {\n",
              "      border-color: transparent;\n",
              "      border-bottom-color: var(--fill-color);\n",
              "    }\n",
              "  }\n",
              "</style>\n",
              "\n",
              "  <script>\n",
              "    async function quickchart(key) {\n",
              "      const quickchartButtonEl =\n",
              "        document.querySelector('#' + key + ' button');\n",
              "      quickchartButtonEl.disabled = true;  // To prevent multiple clicks.\n",
              "      quickchartButtonEl.classList.add('colab-df-spinner');\n",
              "      try {\n",
              "        const charts = await google.colab.kernel.invokeFunction(\n",
              "            'suggestCharts', [key], {});\n",
              "      } catch (error) {\n",
              "        console.error('Error during call to suggestCharts:', error);\n",
              "      }\n",
              "      quickchartButtonEl.classList.remove('colab-df-spinner');\n",
              "      quickchartButtonEl.classList.add('colab-df-quickchart-complete');\n",
              "    }\n",
              "    (() => {\n",
              "      let quickchartButtonEl =\n",
              "        document.querySelector('#df-4958d5c8-c38f-4748-80f0-71fc0321a6eb button');\n",
              "      quickchartButtonEl.style.display =\n",
              "        google.colab.kernel.accessAllowed ? 'block' : 'none';\n",
              "    })();\n",
              "  </script>\n",
              "</div>\n",
              "    </div>\n",
              "  </div>\n"
            ]
          },
          "metadata": {},
          "execution_count": 2
        }
      ]
    },
    {
      "cell_type": "code",
      "source": [
        "df1 = df.reset_index()['Close']\n",
        "df1.shape"
      ],
      "metadata": {
        "colab": {
          "base_uri": "https://localhost:8080/"
        },
        "id": "BqKd8auEsQqA",
        "outputId": "f34a98be-9bcc-4793-a4a5-f92ce59718b2"
      },
      "execution_count": 3,
      "outputs": [
        {
          "output_type": "execute_result",
          "data": {
            "text/plain": [
              "(2035,)"
            ]
          },
          "metadata": {},
          "execution_count": 3
        }
      ]
    },
    {
      "cell_type": "code",
      "source": [
        "plt.plot(df1)"
      ],
      "metadata": {
        "colab": {
          "base_uri": "https://localhost:8080/",
          "height": 447
        },
        "id": "ecSHOtbAtQi0",
        "outputId": "42e22167-799b-4be0-fd27-0c664faa022a"
      },
      "execution_count": 4,
      "outputs": [
        {
          "output_type": "execute_result",
          "data": {
            "text/plain": [
              "[<matplotlib.lines.Line2D at 0x7b0b91ebc2e0>]"
            ]
          },
          "metadata": {},
          "execution_count": 4
        },
        {
          "output_type": "display_data",
          "data": {
            "text/plain": [
              "<Figure size 640x480 with 1 Axes>"
            ],
            "image/png": "[encoded data removed]"
          },
          "metadata": {}
        }
      ]
    },
    {
      "cell_type": "code",
      "source": [
        "from sklearn.preprocessing import MinMaxScaler\n",
        "scaler = MinMaxScaler(feature_range=(0,1))\n",
        "df1 = scaler.fit_transform(np.array(df1).reshape(-1,1))"
      ],
      "metadata": {
        "id": "BnTrTU-ztXnR"
      },
      "execution_count": 5,
      "outputs": []
    },
    {
      "cell_type": "code",
      "source": [
        "df1.shape"
      ],
      "metadata": {
        "colab": {
          "base_uri": "https://localhost:8080/"
        },
        "id": "AaLLfT4Aub7u",
        "outputId": "ddff0669-e430-45f0-cde8-d4a1faf7eea0"
      },
      "execution_count": 6,
      "outputs": [
        {
          "output_type": "execute_result",
          "data": {
            "text/plain": [
              "(2035, 1)"
            ]
          },
          "metadata": {},
          "execution_count": 6
        }
      ]
    },
    {
      "cell_type": "code",
      "source": [
        "##splitting dataset into test and train split\n",
        "trainingsize = int(len(df1)*0.8)\n",
        "testsize = int(len(df1)) - trainingsize\n",
        "traindata, testdata = df1[0:trainingsize,:],df1[trainingsize:len(df1),:1]"
      ],
      "metadata": {
        "id": "OOCKO1OHuzL6"
      },
      "execution_count": 7,
      "outputs": []
    },
    {
      "cell_type": "code",
      "source": [
        "import string\n",
        "def create_sequences(dataset, timestep=1):\n",
        "  dataX, dataY = [], []\n",
        "  for i in range(len(dataset)-timestep):\n",
        "    dataX.append(dataset[i:i+timestep])\n",
        "    dataY.append(dataset[i+timestep])\n",
        "  return numpy.array(dataX), numpy.array(dataY)"
      ],
      "metadata": {
        "id": "nLTJocH8xwas"
      },
      "execution_count": 8,
      "outputs": []
    },
    {
      "cell_type": "code",
      "source": [
        "timestep = 100\n",
        "xtrain, ytrain = create_sequences(traindata, timestep)\n",
        "xtest, ytest = create_sequences(testdata, timestep)"
      ],
      "metadata": {
        "id": "A6Z7cjJ7zfeS"
      },
      "execution_count": 9,
      "outputs": []
    },
    {
      "cell_type": "code",
      "source": [
        "print(xtrain.shape), print(ytrain.shape)"
      ],
      "metadata": {
        "colab": {
          "base_uri": "https://localhost:8080/"
        },
        "id": "G2vNaAyN4pwR",
        "outputId": "6e34cab7-e227-43f4-db52-7f8d03de9841"
      },
      "execution_count": 10,
      "outputs": [
        {
          "output_type": "stream",
          "name": "stdout",
          "text": [
            "(1528, 100, 1)\n",
            "(1528, 1)\n"
          ]
        },
        {
          "output_type": "execute_result",
          "data": {
            "text/plain": [
              "(None, None)"
            ]
          },
          "metadata": {},
          "execution_count": 10
        }
      ]
    },
    {
      "cell_type": "code",
      "source": [
        "print(xtest.shape), print(ytest.shape)"
      ],
      "metadata": {
        "colab": {
          "base_uri": "https://localhost:8080/"
        },
        "id": "D5kLxHUz5Fws",
        "outputId": "e2000703-56ee-4cd1-97d5-168e357483e2"
      },
      "execution_count": 11,
      "outputs": [
        {
          "output_type": "stream",
          "name": "stdout",
          "text": [
            "(307, 100, 1)\n",
            "(307, 1)\n"
          ]
        },
        {
          "output_type": "execute_result",
          "data": {
            "text/plain": [
              "(None, None)"
            ]
          },
          "metadata": {},
          "execution_count": 11
        }
      ]
    },
    {
      "cell_type": "code",
      "source": [
        "##xtrain = xtrain.reshape(xtrain.shape[0], xtrain.shape[1], 1)\n",
        "##xtest = xtest.reshape(xtest.shape[0], xtest.shape[1], 1)"
      ],
      "metadata": {
        "id": "xUQivu7K5Zer"
      },
      "execution_count": 12,
      "outputs": []
    },
    {
      "cell_type": "code",
      "source": [
        "model = Sequential()\n",
        "model.add(LSTM(50, return_sequences=True, input_shape=(xtrain.shape[1], 1)))\n",
        "model.add(LSTM(50, return_sequences=True))\n",
        "model.add(LSTM(50))\n",
        "model.add(Dense(1))\n",
        "model.compile(loss='mean_squared_error', optimizer='adam')"
      ],
      "metadata": {
        "id": "u_d0l6X8zXDI"
      },
      "execution_count": 13,
      "outputs": []
    },
    {
      "cell_type": "code",
      "source": [
        "model.summary()"
      ],
      "metadata": {
        "colab": {
          "base_uri": "https://localhost:8080/"
        },
        "id": "2FpIWTIT6Qkm",
        "outputId": "64a44c6b-4450-4ac6-e36b-42e8bc26411b"
      },
      "execution_count": 14,
      "outputs": [
        {
          "output_type": "stream",
          "name": "stdout",
          "text": [
            "Model: \"sequential\"\n",
            "_________________________________________________________________\n",
            " Layer (type)                Output Shape              Param #   \n",
            "=================================================================\n",
            " lstm (LSTM)                 (None, 100, 50)           10400     \n",
            "                                                                 \n",
            " lstm_1 (LSTM)               (None, 100, 50)           20200     \n",
            "                                                                 \n",
            " lstm_2 (LSTM)               (None, 50)                20200     \n",
            "                                                                 \n",
            " dense (Dense)               (None, 1)                 51        \n",
            "                                                                 \n",
            "=================================================================\n",
            "Total params: 50851 (198.64 KB)\n",
            "Trainable params: 50851 (198.64 KB)\n",
            "Non-trainable params: 0 (0.00 Byte)\n",
            "_________________________________________________________________\n"
          ]
        }
      ]
    },
    {
      "cell_type": "code",
      "source": [
        "model.fit(xtrain, ytrain, validation_data=(xtest, ytest),epochs=100,batch_size=64, verbose=1)"
      ],
      "metadata": {
        "colab": {
          "base_uri": "https://localhost:8080/"
        },
        "id": "e4e37Bgh8dgw",
        "outputId": "12211e29-c59f-44b4-96f8-cf1b61410b52"
      },
      "execution_count": 15,
      "outputs": [
        {
          "output_type": "stream",
          "name": "stdout",
          "text": [
            "Epoch 1/100\n",
            "24/24 [==============================] - 14s 317ms/step - loss: 0.0220 - val_loss: 0.0060\n",
            "Epoch 2/100\n",
            "24/24 [==============================] - 5s 200ms/step - loss: 0.0024 - val_loss: 5.5530e-04\n",
            "Epoch 3/100\n",
            "24/24 [==============================] - 5s 199ms/step - loss: 0.0014 - val_loss: 7.4845e-04\n",
            "Epoch 4/100\n",
            "24/24 [==============================] - 6s 257ms/step - loss: 0.0013 - val_loss: 8.5600e-04\n",
            "Epoch 5/100\n",
            "24/24 [==============================] - 5s 204ms/step - loss: 0.0012 - val_loss: 6.9588e-04\n",
            "Epoch 6/100\n",
            "24/24 [==============================] - 6s 256ms/step - loss: 0.0012 - val_loss: 8.0651e-04\n",
            "Epoch 7/100\n",
            "24/24 [==============================] - 5s 200ms/step - loss: 0.0011 - val_loss: 5.6841e-04\n",
            "Epoch 8/100\n",
            "24/24 [==============================] - 7s 315ms/step - loss: 0.0011 - val_loss: 5.8023e-04\n",
            "Epoch 9/100\n",
            "24/24 [==============================] - 5s 201ms/step - loss: 9.6687e-04 - val_loss: 4.4755e-04\n",
            "Epoch 10/100\n",
            "24/24 [==============================] - 5s 200ms/step - loss: 9.2974e-04 - val_loss: 5.0460e-04\n",
            "Epoch 11/100\n",
            "24/24 [==============================] - 6s 256ms/step - loss: 9.2356e-04 - val_loss: 5.9105e-04\n",
            "Epoch 12/100\n",
            "24/24 [==============================] - 5s 202ms/step - loss: 8.4649e-04 - val_loss: 5.6124e-04\n",
            "Epoch 13/100\n",
            "24/24 [==============================] - 6s 254ms/step - loss: 8.1695e-04 - val_loss: 4.5423e-04\n",
            "Epoch 14/100\n",
            "24/24 [==============================] - 5s 199ms/step - loss: 7.8165e-04 - val_loss: 4.6967e-04\n",
            "Epoch 15/100\n",
            "24/24 [==============================] - 5s 199ms/step - loss: 7.9410e-04 - val_loss: 4.7895e-04\n",
            "Epoch 16/100\n",
            "24/24 [==============================] - 6s 247ms/step - loss: 7.5325e-04 - val_loss: 5.3361e-04\n",
            "Epoch 17/100\n",
            "24/24 [==============================] - 5s 199ms/step - loss: 7.2884e-04 - val_loss: 6.0506e-04\n",
            "Epoch 18/100\n",
            "24/24 [==============================] - 6s 256ms/step - loss: 7.6322e-04 - val_loss: 4.7011e-04\n",
            "Epoch 19/100\n",
            "24/24 [==============================] - 5s 204ms/step - loss: 7.0164e-04 - val_loss: 5.2641e-04\n",
            "Epoch 20/100\n",
            "24/24 [==============================] - 6s 239ms/step - loss: 6.4103e-04 - val_loss: 4.1377e-04\n",
            "Epoch 21/100\n",
            "24/24 [==============================] - 6s 228ms/step - loss: 6.7537e-04 - val_loss: 4.7232e-04\n",
            "Epoch 22/100\n",
            "24/24 [==============================] - 5s 203ms/step - loss: 6.2682e-04 - val_loss: 4.8239e-04\n",
            "Epoch 23/100\n",
            "24/24 [==============================] - 6s 258ms/step - loss: 6.0515e-04 - val_loss: 4.1109e-04\n",
            "Epoch 24/100\n",
            "24/24 [==============================] - 5s 208ms/step - loss: 6.3145e-04 - val_loss: 4.3717e-04\n",
            "Epoch 25/100\n",
            "24/24 [==============================] - 6s 258ms/step - loss: 6.1006e-04 - val_loss: 3.8940e-04\n",
            "Epoch 26/100\n",
            "24/24 [==============================] - 5s 207ms/step - loss: 5.6751e-04 - val_loss: 4.7901e-04\n",
            "Epoch 27/100\n",
            "24/24 [==============================] - 5s 203ms/step - loss: 5.7674e-04 - val_loss: 4.4804e-04\n",
            "Epoch 28/100\n",
            "24/24 [==============================] - 6s 238ms/step - loss: 6.5316e-04 - val_loss: 3.5108e-04\n",
            "Epoch 29/100\n",
            "24/24 [==============================] - 5s 215ms/step - loss: 6.1370e-04 - val_loss: 3.6807e-04\n",
            "Epoch 30/100\n",
            "24/24 [==============================] - 6s 269ms/step - loss: 5.6188e-04 - val_loss: 3.2489e-04\n",
            "Epoch 31/100\n",
            "24/24 [==============================] - 5s 212ms/step - loss: 5.2560e-04 - val_loss: 3.7364e-04\n",
            "Epoch 32/100\n",
            "24/24 [==============================] - 6s 253ms/step - loss: 5.1052e-04 - val_loss: 3.2357e-04\n",
            "Epoch 33/100\n",
            "24/24 [==============================] - 5s 188ms/step - loss: 5.1509e-04 - val_loss: 4.4377e-04\n",
            "Epoch 34/100\n",
            "24/24 [==============================] - 4s 181ms/step - loss: 4.8725e-04 - val_loss: 3.8246e-04\n",
            "Epoch 35/100\n",
            "24/24 [==============================] - 6s 263ms/step - loss: 4.5847e-04 - val_loss: 3.1245e-04\n",
            "Epoch 36/100\n",
            "24/24 [==============================] - 5s 202ms/step - loss: 4.4752e-04 - val_loss: 3.1350e-04\n",
            "Epoch 37/100\n",
            "24/24 [==============================] - 6s 248ms/step - loss: 4.4304e-04 - val_loss: 3.4263e-04\n",
            "Epoch 38/100\n",
            "24/24 [==============================] - 5s 184ms/step - loss: 4.3562e-04 - val_loss: 2.8101e-04\n",
            "Epoch 39/100\n",
            "24/24 [==============================] - 5s 206ms/step - loss: 4.0603e-04 - val_loss: 3.4241e-04\n",
            "Epoch 40/100\n",
            "24/24 [==============================] - 6s 254ms/step - loss: 3.8804e-04 - val_loss: 2.7697e-04\n",
            "Epoch 41/100\n",
            "24/24 [==============================] - 5s 202ms/step - loss: 4.0599e-04 - val_loss: 3.3890e-04\n",
            "Epoch 42/100\n",
            "24/24 [==============================] - 6s 252ms/step - loss: 3.9172e-04 - val_loss: 3.1669e-04\n",
            "Epoch 43/100\n",
            "24/24 [==============================] - 5s 200ms/step - loss: 3.8071e-04 - val_loss: 3.4096e-04\n",
            "Epoch 44/100\n",
            "24/24 [==============================] - 5s 203ms/step - loss: 3.5132e-04 - val_loss: 2.7533e-04\n",
            "Epoch 45/100\n",
            "24/24 [==============================] - 6s 246ms/step - loss: 3.4048e-04 - val_loss: 2.3328e-04\n",
            "Epoch 46/100\n",
            "24/24 [==============================] - 5s 203ms/step - loss: 3.1793e-04 - val_loss: 2.2015e-04\n",
            "Epoch 47/100\n",
            "24/24 [==============================] - 6s 252ms/step - loss: 3.8943e-04 - val_loss: 2.1644e-04\n",
            "Epoch 48/100\n",
            "24/24 [==============================] - 5s 212ms/step - loss: 3.1150e-04 - val_loss: 2.0742e-04\n",
            "Epoch 49/100\n",
            "24/24 [==============================] - 5s 216ms/step - loss: 3.0892e-04 - val_loss: 2.0896e-04\n",
            "Epoch 50/100\n",
            "24/24 [==============================] - 6s 237ms/step - loss: 3.8670e-04 - val_loss: 2.0686e-04\n",
            "Epoch 51/100\n",
            "24/24 [==============================] - 5s 204ms/step - loss: 2.9015e-04 - val_loss: 2.3381e-04\n",
            "Epoch 52/100\n",
            "24/24 [==============================] - 6s 261ms/step - loss: 3.2641e-04 - val_loss: 2.2724e-04\n",
            "Epoch 53/100\n",
            "24/24 [==============================] - 5s 201ms/step - loss: 2.8734e-04 - val_loss: 1.9224e-04\n",
            "Epoch 54/100\n",
            "24/24 [==============================] - 5s 230ms/step - loss: 2.8306e-04 - val_loss: 2.1395e-04\n",
            "Epoch 55/100\n",
            "24/24 [==============================] - 6s 225ms/step - loss: 2.8281e-04 - val_loss: 2.9428e-04\n",
            "Epoch 56/100\n",
            "24/24 [==============================] - 5s 205ms/step - loss: 2.8383e-04 - val_loss: 1.9856e-04\n",
            "Epoch 57/100\n",
            "24/24 [==============================] - 6s 257ms/step - loss: 2.6622e-04 - val_loss: 1.8143e-04\n",
            "Epoch 58/100\n",
            "24/24 [==============================] - 5s 204ms/step - loss: 2.5096e-04 - val_loss: 1.8551e-04\n",
            "Epoch 59/100\n",
            "24/24 [==============================] - 6s 255ms/step - loss: 2.7568e-04 - val_loss: 1.9484e-04\n",
            "Epoch 60/100\n",
            "24/24 [==============================] - 5s 204ms/step - loss: 3.4012e-04 - val_loss: 1.8270e-04\n",
            "Epoch 61/100\n",
            "24/24 [==============================] - 5s 218ms/step - loss: 2.7798e-04 - val_loss: 1.9583e-04\n",
            "Epoch 62/100\n",
            "24/24 [==============================] - 6s 239ms/step - loss: 2.9993e-04 - val_loss: 1.6850e-04\n",
            "Epoch 63/100\n",
            "24/24 [==============================] - 5s 204ms/step - loss: 2.4990e-04 - val_loss: 2.1037e-04\n",
            "Epoch 64/100\n",
            "24/24 [==============================] - 6s 257ms/step - loss: 2.3016e-04 - val_loss: 1.6501e-04\n",
            "Epoch 65/100\n",
            "24/24 [==============================] - 5s 203ms/step - loss: 2.3620e-04 - val_loss: 2.0776e-04\n",
            "Epoch 66/100\n",
            "24/24 [==============================] - 6s 232ms/step - loss: 2.9074e-04 - val_loss: 1.8089e-04\n",
            "Epoch 67/100\n",
            "24/24 [==============================] - 5s 220ms/step - loss: 2.8379e-04 - val_loss: 1.6394e-04\n",
            "Epoch 68/100\n",
            "24/24 [==============================] - 5s 204ms/step - loss: 2.9767e-04 - val_loss: 1.8536e-04\n",
            "Epoch 69/100\n",
            "24/24 [==============================] - 6s 261ms/step - loss: 3.4346e-04 - val_loss: 1.9485e-04\n",
            "Epoch 70/100\n",
            "24/24 [==============================] - 5s 205ms/step - loss: 2.9987e-04 - val_loss: 2.1765e-04\n",
            "Epoch 71/100\n",
            "24/24 [==============================] - 6s 266ms/step - loss: 2.2837e-04 - val_loss: 1.7661e-04\n",
            "Epoch 72/100\n",
            "24/24 [==============================] - 5s 227ms/step - loss: 2.2404e-04 - val_loss: 2.1317e-04\n",
            "Epoch 73/100\n",
            "24/24 [==============================] - 6s 243ms/step - loss: 2.2020e-04 - val_loss: 1.4915e-04\n",
            "Epoch 74/100\n",
            "24/24 [==============================] - 5s 224ms/step - loss: 2.0685e-04 - val_loss: 1.5066e-04\n",
            "Epoch 75/100\n",
            "24/24 [==============================] - 5s 209ms/step - loss: 2.2134e-04 - val_loss: 1.9358e-04\n",
            "Epoch 76/100\n",
            "24/24 [==============================] - 6s 260ms/step - loss: 2.1282e-04 - val_loss: 1.4625e-04\n",
            "Epoch 77/100\n",
            "24/24 [==============================] - 5s 211ms/step - loss: 2.3077e-04 - val_loss: 1.4391e-04\n",
            "Epoch 78/100\n",
            "24/24 [==============================] - 6s 259ms/step - loss: 2.1723e-04 - val_loss: 1.5274e-04\n",
            "Epoch 79/100\n",
            "24/24 [==============================] - 5s 208ms/step - loss: 2.6605e-04 - val_loss: 2.1453e-04\n",
            "Epoch 80/100\n",
            "24/24 [==============================] - 5s 221ms/step - loss: 2.5735e-04 - val_loss: 1.4584e-04\n",
            "Epoch 81/100\n",
            "24/24 [==============================] - 6s 236ms/step - loss: 2.0849e-04 - val_loss: 1.3891e-04\n",
            "Epoch 82/100\n",
            "24/24 [==============================] - 5s 204ms/step - loss: 2.0431e-04 - val_loss: 1.4986e-04\n",
            "Epoch 83/100\n",
            "24/24 [==============================] - 6s 261ms/step - loss: 2.0761e-04 - val_loss: 1.4536e-04\n",
            "Epoch 84/100\n",
            "24/24 [==============================] - 5s 209ms/step - loss: 2.0280e-04 - val_loss: 1.4782e-04\n",
            "Epoch 85/100\n",
            "24/24 [==============================] - 6s 259ms/step - loss: 2.0845e-04 - val_loss: 1.4834e-04\n",
            "Epoch 86/100\n",
            "24/24 [==============================] - 5s 191ms/step - loss: 2.4237e-04 - val_loss: 1.3999e-04\n",
            "Epoch 87/100\n",
            "24/24 [==============================] - 5s 203ms/step - loss: 2.1529e-04 - val_loss: 1.3414e-04\n",
            "Epoch 88/100\n",
            "24/24 [==============================] - 6s 258ms/step - loss: 1.9858e-04 - val_loss: 1.6028e-04\n",
            "Epoch 89/100\n",
            "24/24 [==============================] - 5s 203ms/step - loss: 2.1061e-04 - val_loss: 1.6035e-04\n",
            "Epoch 90/100\n",
            "24/24 [==============================] - 6s 247ms/step - loss: 2.0054e-04 - val_loss: 1.3248e-04\n",
            "Epoch 91/100\n",
            "24/24 [==============================] - 5s 199ms/step - loss: 2.2012e-04 - val_loss: 1.4456e-04\n",
            "Epoch 92/100\n",
            "24/24 [==============================] - 5s 199ms/step - loss: 1.9232e-04 - val_loss: 1.4001e-04\n",
            "Epoch 93/100\n",
            "24/24 [==============================] - 6s 266ms/step - loss: 2.0200e-04 - val_loss: 1.3969e-04\n",
            "Epoch 94/100\n",
            "24/24 [==============================] - 5s 214ms/step - loss: 1.9983e-04 - val_loss: 1.5169e-04\n",
            "Epoch 95/100\n",
            "24/24 [==============================] - 6s 257ms/step - loss: 1.9258e-04 - val_loss: 1.3866e-04\n",
            "Epoch 96/100\n",
            "24/24 [==============================] - 5s 201ms/step - loss: 1.9765e-04 - val_loss: 1.2434e-04\n",
            "Epoch 97/100\n",
            "24/24 [==============================] - 6s 237ms/step - loss: 2.0719e-04 - val_loss: 1.2048e-04\n",
            "Epoch 98/100\n",
            "24/24 [==============================] - 5s 217ms/step - loss: 2.0703e-04 - val_loss: 1.2685e-04\n",
            "Epoch 99/100\n",
            "24/24 [==============================] - 5s 205ms/step - loss: 2.2530e-04 - val_loss: 1.6041e-04\n",
            "Epoch 100/100\n",
            "24/24 [==============================] - 6s 236ms/step - loss: 2.0894e-04 - val_loss: 1.2535e-04\n"
          ]
        },
        {
          "output_type": "execute_result",
          "data": {
            "text/plain": [
              "<keras.src.callbacks.History at 0x7b0b8c25f310>"
            ]
          },
          "metadata": {},
          "execution_count": 15
        }
      ]
    },
    {
      "cell_type": "code",
      "source": [
        "trainpredict = model.predict(xtrain)\n",
        "testpredict = model.predict(xtest)"
      ],
      "metadata": {
        "colab": {
          "base_uri": "https://localhost:8080/"
        },
        "id": "-cVK9LR_ANNO",
        "outputId": "01d483bf-80b4-4fc1-bed5-c1f225a1d150"
      },
      "execution_count": 16,
      "outputs": [
        {
          "output_type": "stream",
          "name": "stdout",
          "text": [
            "48/48 [==============================] - 4s 44ms/step\n",
            "10/10 [==============================] - 0s 42ms/step\n"
          ]
        }
      ]
    },
    {
      "cell_type": "code",
      "source": [
        "trainpredict = scaler.inverse_transform(trainpredict)\n",
        "testpredict = scaler.inverse_transform(testpredict)"
      ],
      "metadata": {
        "id": "6Li9-frMBZx3"
      },
      "execution_count": 17,
      "outputs": []
    },
    {
      "cell_type": "code",
      "source": [
        "plt.figure(figsize=(12, 6))\n",
        "plt.plot(df1, label='True Prices', color='blue')\n",
        "plt.plot(range(timestep, trainingsize), trainpredict, label='Train Predictions', color='green')\n",
        "plt.plot(range(trainingsize + timestep, len(df1)), testpredict, label='Test Predictions', color='red')\n",
        "plt.legend()\n",
        "plt.show()"
      ],
      "metadata": {
        "colab": {
          "base_uri": "https://localhost:8080/",
          "height": 500
        },
        "id": "pT_1PrfMBnn3",
        "outputId": "d729daa5-7502-49c2-dd1d-29dc021b1099"
      },
      "execution_count": 18,
      "outputs": [
        {
          "output_type": "display_data",
          "data": {
            "text/plain": [
              "<Figure size 1200x600 with 1 Axes>"
            ],
            "image/png": "[encoded data removed]"
          },
          "metadata": {}
        }
      ]
    }
  ]
}